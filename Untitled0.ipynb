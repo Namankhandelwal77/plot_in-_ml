{
  "nbformat": 4,
  "nbformat_minor": 0,
  "metadata": {
    "colab": {
      "provenance": [],
      "authorship_tag": "ABX9TyMnAPJB3KsTxhFM1+gTTgnR",
      "include_colab_link": true
    },
    "kernelspec": {
      "name": "python3",
      "display_name": "Python 3"
    },
    "language_info": {
      "name": "python"
    }
  },
  "cells": [
    {
      "cell_type": "markdown",
      "metadata": {
        "id": "view-in-github",
        "colab_type": "text"
      },
      "source": [
        "<a href=\"https://colab.research.google.com/github/Namankhandelwal77/plot_in-_ml/blob/main/Untitled0.ipynb\" target=\"_parent\"><img src=\"https://colab.research.google.com/assets/colab-badge.svg\" alt=\"Open In Colab\"/></a>"
      ]
    },
    {
      "cell_type": "markdown",
      "source": [
        "***Random :*** It is an in-built function in Python. That is generates random numbers in Python. This module can be used to perform random actions such as generating random numbers, printing random a value for a list or string, etc.<br>\n",
        "To generate a random number, we need to import a random module in our program using the command:\n",
        "\n",
        "\n",
        "**import random**\n",
        "\n",
        "**Matplotlib Pyplot :**It is a very powerful plotting library useful for those working with Python and NumPy. And for making statistical interference, it becomes very necessary to visualize our data and Matplotlib is the tool that can be very helpful for this purpose. It provides MATLAB like interface only difference is that it uses Python and is open source.<br>\n",
        "It is very easy to use Matplotlib. First install Matplotlib for using this command:<br>\n",
        "**python -m pip install -U matplotlib**\n",
        "\n",
        "To generate a plot, we need to import a Matplotlib Pyplot library in our program using the command:<br>\n",
        "**import matplotlib.pyplot as plt**"
      ],
      "metadata": {
        "id": "SK_q22OMTIOZ"
      }
    },
    {
      "cell_type": "code",
      "execution_count": 7,
      "metadata": {
        "id": "x3RqQNavTEmc"
      },
      "outputs": [],
      "source": [
        "import random\n",
        "import matplotlib.pyplot as plt"
      ]
    },
    {
      "cell_type": "code",
      "source": [
        "mapping_dict = dict(zip(range(0,10),range(0,10)))"
      ],
      "metadata": {
        "id": "vfeku4V8TKp0"
      },
      "execution_count": 8,
      "outputs": []
    },
    {
      "cell_type": "markdown",
      "source": [
        "In this line we are generates Two random number in range of 0 to 10. One number is key and second number is value. This number is creat into the zip function in the dictionary.\n",
        "\n",
        "**mapping_dict :**It is a variable that is being assigned the value resulting from combining two ranges into key-value pairs within a dictionary using the zip() function and dict() constructor in Python.\n",
        "\n",
        "**dict() Function :**dict() function is used to create a new dictionary or convert other iterable objects into a dictionary. Dictionaries in Python are collections of key-value pairs, and the dict() function allows us to create them in various ways.\n",
        "\n",
        "We can pass keyword arguments as a parameter with the required values that will be keys and values of the dictionary.\n",
        "\n",
        "**Syntax:**\n",
        "\n",
        "**dict(--kwarg)**\n",
        "\n",
        "kwargs: It is a keyword argument.terable.\n",
        "\n",
        "\n",
        "**zip() Function :**The zip() function returns a zip object, which is an iterator of tuples where the first item in each passed iterator is paired together, and then the second item in each passed iterator are paired together etc. This is a lazy function that comes into run only when needed.\n",
        "\n",
        "**Syntax**\n",
        "\n",
        "**zip(iterator1, iterator2, iterator3 ...)**\n",
        "\n",
        "**range() function :**The Python range() function returns a sequence of numbers, in a given range. The most common use of it is to iterate sequences on a sequence of numbers using Python loops.\n",
        "\n",
        "**Syntax**\n",
        "\n",
        "**Syntax: range(start, stop, step)**"
      ],
      "metadata": {
        "id": "1XQbU5AiTOHT"
      }
    },
    {
      "cell_type": "code",
      "source": [
        "mapping_dict"
      ],
      "metadata": {
        "colab": {
          "base_uri": "https://localhost:8080/"
        },
        "id": "OQQGlhFzTTSI",
        "outputId": "bbc08d97-9ff0-4590-e6c4-d06cfa4a0167"
      },
      "execution_count": 9,
      "outputs": [
        {
          "output_type": "execute_result",
          "data": {
            "text/plain": [
              "{0: 0, 1: 1, 2: 2, 3: 3, 4: 4, 5: 5, 6: 6, 7: 7, 8: 8, 9: 9}"
            ]
          },
          "metadata": {},
          "execution_count": 9
        }
      ]
    },
    {
      "cell_type": "markdown",
      "source": [
        "This is a variable that is store the value form key-value pairs. that is way to show store values and key in the form of list."
      ],
      "metadata": {
        "id": "lccfEYiwTZo9"
      }
    },
    {
      "cell_type": "code",
      "source": [
        "for k in mapping_dict.keys():\n",
        "\n",
        "  mapping_dict[k] = str(mapping_dict[k])"
      ],
      "metadata": {
        "id": "JkLDxUT0TWi_"
      },
      "execution_count": 10,
      "outputs": []
    },
    {
      "cell_type": "markdown",
      "source": [
        "In this code we are converts dictionary integer values into a string. for Help of For loop.\n",
        "\n",
        "**for() loop :** That is For loop it is use to sequential traversal in the list.\n",
        "\n",
        "In this loop pass a variable \"k\". The variable k stores each individual key from the dictionary mapping_dict during each iteration of the loop.\n",
        "\n",
        "**mapping_dict.keys() :**That is use to the show only keys. that is show only\n",
        "\n",
        "those keys which are in the dicitionary.\n",
        "\n",
        "**mapping_dict[k] :** That is refers to the current \"k\" value in the dictionary.\n",
        "\n",
        "**str() Function :** This Function is converts the specified value into a string.\n",
        "\n",
        "***Syntax***\n",
        "\n",
        "**str(object, encoding=encoding, errors=errors)**\n",
        "\n"
      ],
      "metadata": {
        "id": "LK7C8rbmToCF"
      }
    },
    {
      "cell_type": "code",
      "source": [
        "mapping_dict"
      ],
      "metadata": {
        "colab": {
          "base_uri": "https://localhost:8080/"
        },
        "id": "CHhJLP3uTn5Q",
        "outputId": "a06cd463-f46b-470e-d136-3486b3fed472"
      },
      "execution_count": 11,
      "outputs": [
        {
          "output_type": "execute_result",
          "data": {
            "text/plain": [
              "{0: '0',\n",
              " 1: '1',\n",
              " 2: '2',\n",
              " 3: '3',\n",
              " 4: '4',\n",
              " 5: '5',\n",
              " 6: '6',\n",
              " 7: '7',\n",
              " 8: '8',\n",
              " 9: '9'}"
            ]
          },
          "metadata": {},
          "execution_count": 11
        }
      ]
    },
    {
      "cell_type": "markdown",
      "source": [
        "This line print the return \"mapping_dict\" values. In this line print a integer key and string value of the key."
      ],
      "metadata": {
        "id": "Dpp_Dt_5UCK9"
      }
    },
    {
      "cell_type": "code",
      "source": [
        "for i in range(0,26):\n",
        "  mapping_dict[10+i] = chr(65+i)"
      ],
      "metadata": {
        "id": "LfK_OONsTcpn"
      },
      "execution_count": 12,
      "outputs": []
    },
    {
      "cell_type": "markdown",
      "source": [
        "This for Loop range is 0 to 25 and inside this for loop we are assigning character values to the integer keys in this loop key is start [10+i] and character is start (65+i)."
      ],
      "metadata": {
        "id": "A7QgtH8WUIAF"
      }
    },
    {
      "cell_type": "code",
      "source": [
        "mapping_dict"
      ],
      "metadata": {
        "colab": {
          "base_uri": "https://localhost:8080/"
        },
        "id": "lW9Wph22UJzL",
        "outputId": "4c9affc8-6763-425c-d8b3-e03c23f3b8e6"
      },
      "execution_count": 13,
      "outputs": [
        {
          "output_type": "execute_result",
          "data": {
            "text/plain": [
              "{0: '0',\n",
              " 1: '1',\n",
              " 2: '2',\n",
              " 3: '3',\n",
              " 4: '4',\n",
              " 5: '5',\n",
              " 6: '6',\n",
              " 7: '7',\n",
              " 8: '8',\n",
              " 9: '9',\n",
              " 10: 'A',\n",
              " 11: 'B',\n",
              " 12: 'C',\n",
              " 13: 'D',\n",
              " 14: 'E',\n",
              " 15: 'F',\n",
              " 16: 'G',\n",
              " 17: 'H',\n",
              " 18: 'I',\n",
              " 19: 'J',\n",
              " 20: 'K',\n",
              " 21: 'L',\n",
              " 22: 'M',\n",
              " 23: 'N',\n",
              " 24: 'O',\n",
              " 25: 'P',\n",
              " 26: 'Q',\n",
              " 27: 'R',\n",
              " 28: 'S',\n",
              " 29: 'T',\n",
              " 30: 'U',\n",
              " 31: 'V',\n",
              " 32: 'W',\n",
              " 33: 'X',\n",
              " 34: 'Y',\n",
              " 35: 'Z'}"
            ]
          },
          "metadata": {},
          "execution_count": 13
        }
      ]
    },
    {
      "cell_type": "markdown",
      "source": [
        "This line print the \"mapping_dict\" variable value. In this variable store the key-value pairs in a list. The key is integer and value is string."
      ],
      "metadata": {
        "id": "Te7lcx-2UT-1"
      }
    },
    {
      "cell_type": "code",
      "source": [
        "sample_size = 5000\n",
        "\n",
        "random_numbers = list()\n",
        "\n",
        "for i in range(0,sample_size):\n",
        "\n",
        "  blank_str = str()\n",
        "\n",
        "  random_digit = random.randint(0,35)\n",
        "  blank_str = blank_str + mapping_dict[random_digit]\n",
        "\n",
        "  random_digit = random.randint(0,35)\n",
        "  blank_str = blank_str + mapping_dict[random_digit]\n",
        "\n",
        "  for i in range(0,8):\n",
        "    coin_toss = random.randint(0,1)\n",
        "\n",
        "    if coin_toss == 1:\n",
        "\n",
        "      random_digit = random.randint(0,35)\n",
        "      blank_str = blank_str + mapping_dict[random_digit]\n",
        "\n",
        "    else:\n",
        "      break\n",
        "\n",
        "  random_numbers.append(blank_str)"
      ],
      "metadata": {
        "id": "Wro8IHOOUOjT"
      },
      "execution_count": 14,
      "outputs": []
    },
    {
      "cell_type": "markdown",
      "source": [
        "This Python code generates a list of strings (random_numbers) based on the specifications defined within the loop\n",
        "\n",
        "**sample_size = 50:** Sets the number of strings to be generated to 50.\n",
        "\n",
        "**random_numbers = list():** Initializes an empty list named random_numbers to store the generated strings.\n",
        "\n",
        "The for loop **(for i in range(0, sample_size):)** iterates sample_size times, generating strings in each iteration.\n",
        "\n",
        "***Inside the loop:***\n",
        "\n",
        "**blank_str = str():** Initializes an empty string blank_str.\n",
        "\n",
        "**random_digit = random.randint(0,35) :**\n",
        "Two random digits (ranging from 0 to 35) are generated and concatenated with blank_str after retrieving their corresponding values from the mapping_dict.\n",
        "\n",
        "In this loop one more for loop is strt **(for i in range(0,8):)** this loop range is 0 to 8.\n",
        "\n",
        "Inside this for loop A coin toss **(coin_toss = random.randint(0, 1))** determines whether to generate additional random digits.\n",
        "\n",
        "**(if coin_toss == 1:)**If the outcome is 1, a random digit from mapping_dict is concatenated with blank_str. This process continues for up to 8 iterations or until a coin toss results in a 0.\n",
        "\n",
        "The resulting string (blank_str) is appended to the random_numbers list."
      ],
      "metadata": {
        "id": "BFFcKn6AUdzx"
      }
    },
    {
      "cell_type": "code",
      "source": [
        "reverse_mapping_dict = dict()\n",
        "\n",
        "for k in mapping_dict.keys():\n",
        "  reverse_mapping_dict[mapping_dict[k]] = k"
      ],
      "metadata": {
        "id": "h1GwbU5HUfMB"
      },
      "execution_count": 15,
      "outputs": []
    },
    {
      "cell_type": "markdown",
      "source": [
        "In This code generates a dictionary called **reverse_mapping_dict** by reversing the key-value pairs from the existing dictionary **mapping_dict**.\n",
        "\n",
        "**reverse_mapping_dict = dict() :** initializes an empty dictionary named reverse_mapping_dict.\n",
        "\n",
        "The for loop iterates through the keys of the mapping_dict dictionary using **mapping_dict.keys()**.\n",
        "\n",
        "**In the loop:**\n",
        "\n",
        "**k** represents each key in mapping_dict.\n",
        "\n",
        "**mapping_dict[k] :** retrieves the value associated with the current key **k**.\n",
        "\n",
        "**reverse_mapping_dict[mapping_dict[k]] = k :** assigns the value **k** from **mapping_dict** as a key in the **reverse_mapping_dict** dictionary and associates it with the original key **k** from **mapping_dict**. Essentially, it swaps the key-value pairs, creating a reverse mapping."
      ],
      "metadata": {
        "id": "sSyIxV26UkZh"
      }
    },
    {
      "cell_type": "code",
      "source": [
        "base_frequency = dict()\n",
        "\n",
        "for blank_str in random_numbers:\n",
        "  highest_digit = max(blank_str)\n",
        "  highest_base = reverse_mapping_dict[highest_digit] + 1\n",
        "\n",
        "  if highest_base in base_frequency.keys():\n",
        "    base_frequency[highest_base] += (1/sample_size)\n",
        "  else:\n",
        "    base_frequency[highest_base] = (1/sample_size)"
      ],
      "metadata": {
        "id": "bicaxWnzUh-j"
      },
      "execution_count": 16,
      "outputs": []
    },
    {
      "cell_type": "markdown",
      "source": [
        "This python code is  calculates the frequency of occurrence for the highest base and stores this frequency in the base_frequency dictionary.\n",
        "\n",
        "**base_frequency = dict() :** initializes an empty dictionary named **base_frequency** to store frequencies.\n",
        "\n",
        "In the for loop\n",
        "The code iterates through each string **blank_str** in the **random_numbers** list.\n",
        "\n",
        "**highest_digit = max(blank_str) :** finds the character with the highest ASCII value in the current string **blank_str**.\n",
        "\n",
        "**highest_base = reverse_mapping_dict[highest_digit] + 1 :** looks up the value **(highest_digit)** in the **reverse_mapping_dict** to retrieve its corresponding key, then increments it by 1 to obtain the highest base.\n",
        "\n",
        "The code then checks if **highest_base** is already a key in the **base_frequency** dictionary:\n",
        "\n",
        "If it exists **(highest_base in base_frequency.keys())**, it increments the frequency stored in **base_frequency[highest_base] **by **1/sample_size**. This adds a fraction to the frequency count representing the occurrence of this base in the sample.\n",
        "If it doesn't exist, it creates a new entry in the **base_frequency** dictionary with **highest_base** as the key and assigns a value of **1/sample_size**. This initializes the frequency count for this base."
      ],
      "metadata": {
        "id": "DXD386a-Un3N"
      }
    },
    {
      "cell_type": "code",
      "source": [
        "plt.bar(x=base_frequency.keys(),height=base_frequency.values())"
      ],
      "metadata": {
        "colab": {
          "base_uri": "https://localhost:8080/",
          "height": 447
        },
        "id": "M3puWES4UsRn",
        "outputId": "17ba9cb2-ce07-46ca-8a0a-8962304588fb"
      },
      "execution_count": 17,
      "outputs": [
        {
          "output_type": "execute_result",
          "data": {
            "text/plain": [
              "<BarContainer object of 36 artists>"
            ]
          },
          "metadata": {},
          "execution_count": 17
        },
        {
          "output_type": "display_data",
          "data": {
            "text/plain": [
              "<Figure size 640x480 with 1 Axes>"
            ],
            "image/png": "[encoded data removed]"
          },
          "metadata": {}
        }
      ]
    },
    {
      "cell_type": "markdown",
      "source": [
        "This line of code attempts to create a bar plot using Matplotlib's\n",
        "**plt.bar()** function. It uses **base_frequency.keys()** as the x-values and **base_frequency.values()** as the corresponding heights for the bars in the plot."
      ],
      "metadata": {
        "id": "52ioovprUup_"
      }
    },
    {
      "cell_type": "code",
      "source": [],
      "metadata": {
        "id": "IM22vQvKUzfF"
      },
      "execution_count": null,
      "outputs": []
    },
    {
      "cell_type": "markdown",
      "source": [
        "Machine Learning is a set of mathematical and programing tools used to define a function for the graph of population data using sample data"
      ],
      "metadata": {
        "id": "vuj_sX2wU0Nj"
      }
    },
    {
      "cell_type": "markdown",
      "source": [
        "Problablity of occurance of any event , 'X' is the limiting case of relative freruence , as the sample size approaches INFINITY"
      ],
      "metadata": {
        "id": "OL3wRwDtUz9v"
      }
    },
    {
      "cell_type": "code",
      "source": [],
      "metadata": {
        "id": "KSREtRcEU621"
      },
      "execution_count": null,
      "outputs": []
    }
  ]
}